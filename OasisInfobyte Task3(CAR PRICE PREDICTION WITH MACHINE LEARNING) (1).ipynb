{
 "cells": [
  {
   "cell_type": "code",
   "execution_count": 2,
   "id": "5093ef2e",
   "metadata": {},
   "outputs": [],
   "source": [
    "import pandas as pd\n",
    "from sklearn.model_selection import train_test_split\n",
    "from sklearn.linear_model import LinearRegression\n",
    "from sklearn.metrics import mean_squared_error\n",
    "\n",
    "# Loading the dataset \n",
    "df = pd.read_csv(\"C:\\\\Users\\\\gsury\\\\OneDrive\\\\Desktop\\jaya\\CarPrice_Assignment.csv\")\n"
   ]
  },
  {
   "cell_type": "code",
   "execution_count": 3,
   "id": "dcb9c748",
   "metadata": {},
   "outputs": [],
   "source": [
    "from sklearn.preprocessing import LabelEncoder\n",
    "le=LabelEncoder()\n",
    "df[\"CarName\"]=le.fit_transform(df[\"CarName\"])\n",
    "df[\"fueltype\"]=le.fit_transform(df[\"fueltype\"])\n",
    "df[\"aspiration\"]=le.fit_transform(df[\"aspiration\"])\n",
    "df[\"doornumber\"]=le.fit_transform(df[\"doornumber\"])\n",
    "df[\"carbody\"]=le.fit_transform(df[\"carbody\"])\n",
    "df[\"drivewheel\"]=le.fit_transform(df[\"drivewheel\"])\n",
    "df[\"carbody\"]=le.fit_transform(df[\"carbody\"])\n",
    "df[\"enginetype\"]=le.fit_transform(df[\"enginetype\"])\n",
    "df[\"cylindernumber\"]=le.fit_transform(df[\"cylindernumber\"])\n",
    "df[\"fuelsystem\"]=le.fit_transform(df[\"fuelsystem\"])\n",
    "df[\"enginelocation\"]=le.fit_transform(df[\"enginelocation\"])"
   ]
  },
  {
   "cell_type": "code",
   "execution_count": 4,
   "id": "a818faef",
   "metadata": {},
   "outputs": [
    {
     "data": {
      "text/plain": [
       "car_ID              0\n",
       "symboling           0\n",
       "CarName             0\n",
       "fueltype            0\n",
       "aspiration          0\n",
       "doornumber          0\n",
       "carbody             0\n",
       "drivewheel          0\n",
       "enginelocation      0\n",
       "wheelbase           0\n",
       "carlength           0\n",
       "carwidth            0\n",
       "carheight           0\n",
       "curbweight          0\n",
       "enginetype          0\n",
       "cylindernumber      0\n",
       "enginesize          0\n",
       "fuelsystem          0\n",
       "boreratio           0\n",
       "stroke              0\n",
       "compressionratio    0\n",
       "horsepower          0\n",
       "peakrpm             0\n",
       "citympg             0\n",
       "highwaympg          0\n",
       "price               0\n",
       "dtype: int64"
      ]
     },
     "execution_count": 4,
     "metadata": {},
     "output_type": "execute_result"
    }
   ],
   "source": [
    "df.isnull().sum()"
   ]
  },
  {
   "cell_type": "code",
   "execution_count": 5,
   "id": "8d043c5c",
   "metadata": {},
   "outputs": [
    {
     "data": {
      "text/html": [
       "<div>\n",
       "<style scoped>\n",
       "    .dataframe tbody tr th:only-of-type {\n",
       "        vertical-align: middle;\n",
       "    }\n",
       "\n",
       "    .dataframe tbody tr th {\n",
       "        vertical-align: top;\n",
       "    }\n",
       "\n",
       "    .dataframe thead th {\n",
       "        text-align: right;\n",
       "    }\n",
       "</style>\n",
       "<table border=\"1\" class=\"dataframe\">\n",
       "  <thead>\n",
       "    <tr style=\"text-align: right;\">\n",
       "      <th></th>\n",
       "      <th>car_ID</th>\n",
       "      <th>symboling</th>\n",
       "      <th>CarName</th>\n",
       "      <th>fueltype</th>\n",
       "      <th>aspiration</th>\n",
       "      <th>doornumber</th>\n",
       "      <th>carbody</th>\n",
       "      <th>drivewheel</th>\n",
       "      <th>enginelocation</th>\n",
       "      <th>wheelbase</th>\n",
       "      <th>...</th>\n",
       "      <th>enginesize</th>\n",
       "      <th>fuelsystem</th>\n",
       "      <th>boreratio</th>\n",
       "      <th>stroke</th>\n",
       "      <th>compressionratio</th>\n",
       "      <th>horsepower</th>\n",
       "      <th>peakrpm</th>\n",
       "      <th>citympg</th>\n",
       "      <th>highwaympg</th>\n",
       "      <th>price</th>\n",
       "    </tr>\n",
       "  </thead>\n",
       "  <tbody>\n",
       "    <tr>\n",
       "      <th>0</th>\n",
       "      <td>1</td>\n",
       "      <td>3</td>\n",
       "      <td>2</td>\n",
       "      <td>1</td>\n",
       "      <td>0</td>\n",
       "      <td>1</td>\n",
       "      <td>0</td>\n",
       "      <td>2</td>\n",
       "      <td>0</td>\n",
       "      <td>88.6</td>\n",
       "      <td>...</td>\n",
       "      <td>130</td>\n",
       "      <td>5</td>\n",
       "      <td>3.47</td>\n",
       "      <td>2.68</td>\n",
       "      <td>9.0</td>\n",
       "      <td>111</td>\n",
       "      <td>5000</td>\n",
       "      <td>21</td>\n",
       "      <td>27</td>\n",
       "      <td>13495.0</td>\n",
       "    </tr>\n",
       "    <tr>\n",
       "      <th>1</th>\n",
       "      <td>2</td>\n",
       "      <td>3</td>\n",
       "      <td>3</td>\n",
       "      <td>1</td>\n",
       "      <td>0</td>\n",
       "      <td>1</td>\n",
       "      <td>0</td>\n",
       "      <td>2</td>\n",
       "      <td>0</td>\n",
       "      <td>88.6</td>\n",
       "      <td>...</td>\n",
       "      <td>130</td>\n",
       "      <td>5</td>\n",
       "      <td>3.47</td>\n",
       "      <td>2.68</td>\n",
       "      <td>9.0</td>\n",
       "      <td>111</td>\n",
       "      <td>5000</td>\n",
       "      <td>21</td>\n",
       "      <td>27</td>\n",
       "      <td>16500.0</td>\n",
       "    </tr>\n",
       "    <tr>\n",
       "      <th>2</th>\n",
       "      <td>3</td>\n",
       "      <td>1</td>\n",
       "      <td>1</td>\n",
       "      <td>1</td>\n",
       "      <td>0</td>\n",
       "      <td>1</td>\n",
       "      <td>2</td>\n",
       "      <td>2</td>\n",
       "      <td>0</td>\n",
       "      <td>94.5</td>\n",
       "      <td>...</td>\n",
       "      <td>152</td>\n",
       "      <td>5</td>\n",
       "      <td>2.68</td>\n",
       "      <td>3.47</td>\n",
       "      <td>9.0</td>\n",
       "      <td>154</td>\n",
       "      <td>5000</td>\n",
       "      <td>19</td>\n",
       "      <td>26</td>\n",
       "      <td>16500.0</td>\n",
       "    </tr>\n",
       "    <tr>\n",
       "      <th>3</th>\n",
       "      <td>4</td>\n",
       "      <td>2</td>\n",
       "      <td>4</td>\n",
       "      <td>1</td>\n",
       "      <td>0</td>\n",
       "      <td>0</td>\n",
       "      <td>3</td>\n",
       "      <td>1</td>\n",
       "      <td>0</td>\n",
       "      <td>99.8</td>\n",
       "      <td>...</td>\n",
       "      <td>109</td>\n",
       "      <td>5</td>\n",
       "      <td>3.19</td>\n",
       "      <td>3.40</td>\n",
       "      <td>10.0</td>\n",
       "      <td>102</td>\n",
       "      <td>5500</td>\n",
       "      <td>24</td>\n",
       "      <td>30</td>\n",
       "      <td>13950.0</td>\n",
       "    </tr>\n",
       "    <tr>\n",
       "      <th>4</th>\n",
       "      <td>5</td>\n",
       "      <td>2</td>\n",
       "      <td>5</td>\n",
       "      <td>1</td>\n",
       "      <td>0</td>\n",
       "      <td>0</td>\n",
       "      <td>3</td>\n",
       "      <td>0</td>\n",
       "      <td>0</td>\n",
       "      <td>99.4</td>\n",
       "      <td>...</td>\n",
       "      <td>136</td>\n",
       "      <td>5</td>\n",
       "      <td>3.19</td>\n",
       "      <td>3.40</td>\n",
       "      <td>8.0</td>\n",
       "      <td>115</td>\n",
       "      <td>5500</td>\n",
       "      <td>18</td>\n",
       "      <td>22</td>\n",
       "      <td>17450.0</td>\n",
       "    </tr>\n",
       "  </tbody>\n",
       "</table>\n",
       "<p>5 rows × 26 columns</p>\n",
       "</div>"
      ],
      "text/plain": [
       "   car_ID  symboling  CarName  fueltype  aspiration  doornumber  carbody  \\\n",
       "0       1          3        2         1           0           1        0   \n",
       "1       2          3        3         1           0           1        0   \n",
       "2       3          1        1         1           0           1        2   \n",
       "3       4          2        4         1           0           0        3   \n",
       "4       5          2        5         1           0           0        3   \n",
       "\n",
       "   drivewheel  enginelocation  wheelbase  ...  enginesize  fuelsystem  \\\n",
       "0           2               0       88.6  ...         130           5   \n",
       "1           2               0       88.6  ...         130           5   \n",
       "2           2               0       94.5  ...         152           5   \n",
       "3           1               0       99.8  ...         109           5   \n",
       "4           0               0       99.4  ...         136           5   \n",
       "\n",
       "   boreratio  stroke  compressionratio  horsepower  peakrpm  citympg  \\\n",
       "0       3.47    2.68               9.0         111     5000       21   \n",
       "1       3.47    2.68               9.0         111     5000       21   \n",
       "2       2.68    3.47               9.0         154     5000       19   \n",
       "3       3.19    3.40              10.0         102     5500       24   \n",
       "4       3.19    3.40               8.0         115     5500       18   \n",
       "\n",
       "   highwaympg    price  \n",
       "0          27  13495.0  \n",
       "1          27  16500.0  \n",
       "2          26  16500.0  \n",
       "3          30  13950.0  \n",
       "4          22  17450.0  \n",
       "\n",
       "[5 rows x 26 columns]"
      ]
     },
     "execution_count": 5,
     "metadata": {},
     "output_type": "execute_result"
    }
   ],
   "source": [
    "df.head(5)"
   ]
  },
  {
   "cell_type": "code",
   "execution_count": 6,
   "id": "24c8e524",
   "metadata": {},
   "outputs": [],
   "source": [
    "X = df.iloc[:,:-1].values\n",
    "y = df.iloc[:,-1].values"
   ]
  },
  {
   "cell_type": "code",
   "execution_count": 7,
   "id": "2e4fc11f",
   "metadata": {},
   "outputs": [],
   "source": [
    "X_train, X_test, y_train, y_test = train_test_split(X, y, test_size=0.2, random_state=42)\n",
    "\n",
    "# Initializing the Linear Regression model\n",
    "model = LinearRegression()\n"
   ]
  },
  {
   "cell_type": "code",
   "execution_count": 8,
   "id": "d989fe93",
   "metadata": {},
   "outputs": [
    {
     "name": "stdout",
     "output_type": "stream",
     "text": [
      "[[6.70e+01 0.00e+00 6.00e+01 ... 4.20e+03 3.10e+01 3.90e+01]\n",
      " [1.12e+02 0.00e+00 8.50e+01 ... 5.00e+03 1.90e+01 2.40e+01]\n",
      " [1.54e+02 0.00e+00 1.21e+02 ... 4.80e+03 3.10e+01 3.70e+01]\n",
      " ...\n",
      " [9.30e+01 1.00e+00 7.60e+01 ... 5.20e+03 3.10e+01 3.70e+01]\n",
      " [1.80e+02 3.00e+00 1.20e+02 ... 5.20e+03 1.90e+01 2.40e+01]\n",
      " [1.03e+02 0.00e+00 7.20e+01 ... 5.20e+03 1.70e+01 2.20e+01]]\n"
     ]
    }
   ],
   "source": [
    "print(X_train)"
   ]
  },
  {
   "cell_type": "code",
   "execution_count": 9,
   "id": "5a79882c",
   "metadata": {},
   "outputs": [
    {
     "name": "stdout",
     "output_type": "stream",
     "text": [
      "[18344.  15580.   6918.   7499.   9095.   6229.   7053.  16900.  12964.\n",
      "  6295.  16558.   7099.   8948.   7349.  15250.   8449.  11845.  37028.\n",
      "  5389.   9233.  17199.  11248.  16503.  10698.   6855.  20970.   7295.\n",
      " 22018.  10345.   6938.  18150.   7603.   6095.  16695.   9538.  12945.\n",
      " 12764.   6669.   7957.   7609.  18620.  16845.  18150.  16500.   6189.\n",
      " 11048.   7609.  34028.   6989.   5118.   7295.  17075.  10595.   6377.\n",
      " 15510.  13845.   6529.  16925.  18950.   8058.  17710.   8558.  32528.\n",
      " 15985.   7126.  17450.   5399.  12440.   9495.  16630.   8013.  16430.\n",
      " 10245.   5572.   5348.  11199.  13495.   7995.   7975.  31600.  22470.\n",
      " 11245.   8916.5  9298.   8921.  10295.  13200.   8921.   7957.   8778.\n",
      " 11595.   8499.   8845.  17669.  32250.   7299.   7898.   6785.   7775.\n",
      " 13950.  19699.   6695.  12170.   8195.   8358.   9980.  36000.   9959.\n",
      "  7129.  18920.  13860.   6649.  14869.  15750.   8495.   5499.  23875.\n",
      " 21105.   8845.  10898.   9895.  36880.  35056.  15690.  15040.  11549.\n",
      " 18420.  10795.   7395.  11900.   5195.  19045.   9989.  15645.  35550.\n",
      "  9279.   5572.  13645.   7738.  16515.  31400.5  7895.   7198.  12290.\n",
      " 16500.   6795.  11694.   9295.   6338.  13499.   8949.  17950.   9279.\n",
      " 45400.   6692.  22625.   6575.   9995.  34184.  18399.  24565.   6849.\n",
      " 15998.  14399. ]\n"
     ]
    }
   ],
   "source": [
    "print(y_train)"
   ]
  },
  {
   "cell_type": "code",
   "execution_count": 12,
   "id": "efdad0e5",
   "metadata": {},
   "outputs": [
    {
     "name": "stdout",
     "output_type": "stream",
     "text": [
      "[[1.60e+01 0.00e+00 1.30e+01 ... 5.40e+03 1.60e+01 2.20e+01]\n",
      " [1.00e+01 0.00e+00 8.00e+00 ... 5.50e+03 1.60e+01 2.20e+01]\n",
      " [1.01e+02 0.00e+00 7.90e+01 ... 5.20e+03 2.70e+01 3.40e+01]\n",
      " ...\n",
      " [4.60e+01 0.00e+00 4.60e+01 ... 5.40e+03 3.80e+01 4.30e+01]\n",
      " [8.50e+01 3.00e+00 6.60e+01 ... 5.00e+03 1.90e+01 2.40e+01]\n",
      " [1.47e+02 0.00e+00 1.10e+02 ... 4.80e+03 2.80e+01 3.20e+01]]\n"
     ]
    }
   ],
   "source": [
    "print(X_test)"
   ]
  },
  {
   "cell_type": "code",
   "execution_count": 13,
   "id": "6e846429",
   "metadata": {},
   "outputs": [
    {
     "name": "stdout",
     "output_type": "stream",
     "text": [
      "[30760.    17859.167  9549.    11850.    28248.     7799.     7788.\n",
      "  9258.    10198.     7775.    13295.     8238.    18280.     9988.\n",
      " 40960.     6488.     5151.    12629.     8189.     9960.     8495.\n",
      " 13499.     8249.     6479.     6692.    41315.     9639.    13415.\n",
      "  7999.    12940.    25552.     6229.     7898.    21485.     7689.\n",
      " 28176.    11259.    10945.     8916.5   14489.     7463.   ]\n"
     ]
    }
   ],
   "source": [
    "print(y_test)"
   ]
  },
  {
   "cell_type": "code",
   "execution_count": 26,
   "id": "2d559605",
   "metadata": {},
   "outputs": [],
   "source": [
    "model.fit(X_train, y_train)\n",
    "\n",
    "# Making predictions on the test data\n",
    "y_pred = model.predict(X_test)"
   ]
  },
  {
   "cell_type": "code",
   "execution_count": 27,
   "id": "c4e1061e",
   "metadata": {},
   "outputs": [
    {
     "name": "stdout",
     "output_type": "stream",
     "text": [
      "[25783.25418642 17590.19034007  9749.41774329 13344.41148125\n",
      " 27280.94377292  6357.70028107  8713.26230338  5734.28057726\n",
      "  9449.29974282  7106.92604731 13742.38737314  5979.00747713\n",
      " 16651.11471939 10552.79250236 40457.1636125   6710.72559894\n",
      "   484.11999496 14240.99382584  9727.97223046 10460.90898101\n",
      " 10941.50660196 21136.81726627  8177.97185747  3244.00794152\n",
      "  7777.92851044 24504.52472833 14092.94909723 15826.15799989\n",
      "  5244.08940192 16102.44725101 27166.32467284  7239.59071361\n",
      "  4578.17478895 22177.76526526  8255.66494855 27497.23172714\n",
      " 10063.67575722  9984.91341199  6800.48179645 14644.70979449\n",
      "  7421.77429318]\n"
     ]
    }
   ],
   "source": [
    "print(y_pred)"
   ]
  },
  {
   "cell_type": "code",
   "execution_count": 31,
   "id": "97a200bb",
   "metadata": {},
   "outputs": [
    {
     "name": "stdout",
     "output_type": "stream",
     "text": [
      "Mean Squared Error: 12306121.30\n"
     ]
    }
   ],
   "source": [
    "mse = mean_squared_error(y_test, y_pred)\n",
    "print(f\"Mean Squared Error: {mse:.2f}\")"
   ]
  },
  {
   "cell_type": "code",
   "execution_count": null,
   "id": "78a1f007",
   "metadata": {},
   "outputs": [],
   "source": []
  }
 ],
 "metadata": {
  "kernelspec": {
   "display_name": "Python 3 (ipykernel)",
   "language": "python",
   "name": "python3"
  },
  "language_info": {
   "codemirror_mode": {
    "name": "ipython",
    "version": 3
   },
   "file_extension": ".py",
   "mimetype": "text/x-python",
   "name": "python",
   "nbconvert_exporter": "python",
   "pygments_lexer": "ipython3",
   "version": "3.9.12"
  }
 },
 "nbformat": 4,
 "nbformat_minor": 5
}
